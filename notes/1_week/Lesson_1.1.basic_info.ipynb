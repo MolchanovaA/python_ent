{
 "cells": [
  {
   "attachments": {},
   "cell_type": "markdown",
   "metadata": {},
   "source": [
    "# First program\n",
    "\n",
    "In Python, a program is a set of instructions that the computer can execute to perform a specific task."
   ]
  },
  {
   "attachments": {},
   "cell_type": "markdown",
   "metadata": {},
   "source": [
    "## Interactive vs script \n",
    "\n",
    "In Python, the interactive window and script window are two different ways of working with the Python programming language.\n",
    "\n",
    "### Interactive window\n",
    "\n",
    "The interactive window, also known as the Python **REPL** (Read-Eval-Print Loop), is an environment where you can enter Python commands and see the results immediately. This is useful for trying out small code snippets or testing out functions before using them in a larger program. In the interactive window, you can type a Python command, press Enter, and see the output immediately. For example, if you type 3 + 6 in the interactive window, you will see the output 9 immediately."
   ]
  },
  {
   "cell_type": "code",
   "execution_count": null,
   "metadata": {},
   "outputs": [],
   "source": [
    "3 + 6"
   ]
  },
  {
   "attachments": {},
   "cell_type": "markdown",
   "metadata": {},
   "source": [
    "### Script window\n",
    "\n",
    "The script window, on the other hand, is where you can write and save Python code in a file that can be executed later. This is useful for writing larger programs or scripts that you want to save and reuse. In the script window, you can write multiple lines of Python code, save the code in a file, and then run the code later. For example, you can write a Python program that reads data from a file, processes the data, and then writes the results to a new file."
   ]
  },
  {
   "attachments": {},
   "cell_type": "markdown",
   "metadata": {},
   "source": [
    "\n",
    "test.py"
   ]
  },
  {
   "attachments": {},
   "cell_type": "markdown",
   "metadata": {},
   "source": [
    "The main difference between the interactive window and the script window is that the interactive window allows you to experiment with Python commands in real time, while the script window allows you to write and save larger programs or scripts that you can reuse later. The interactive window is useful for quickly trying out small code snippets or testing out functions, while the script window is useful for writing more complex programs or scripts that require multiple lines of code.\n",
    "\n",
    "    Overall, both the interactive window and script window are useful tools for working with Python, and the choice between them depends on the task at hand."
   ]
  },
  {
   "cell_type": "markdown",
   "metadata": {},
   "source": [
    "## Constants and variables"
   ]
  },
  {
   "attachments": {},
   "cell_type": "markdown",
   "metadata": {},
   "source": [
    "    Variables allow you to store values that you want to use later. For example, you might want to store any value to reuse it later. To do that, you create a variable to store the result of a calculation, and then use that variable in multiple places in your code.\n",
    "\n",
    "Variables can help you avoid errors in your code. For example, if you have a long calculation that you need to use multiple times in your code, you can store the result in a variable. This ensures that you are using the correct result throughout your code, rather than accidentally making a mistake when you type out the calculation multiple times."
   ]
  },
  {
   "attachments": {},
   "cell_type": "markdown",
   "metadata": {},
   "source": [
    "In Python, you can create a new variable by assigning a value to a name. Here's the basic syntax for creating a new variable:\n"
   ]
  },
  {
   "attachments": {},
   "cell_type": "markdown",
   "metadata": {},
   "source": [
    "**variable_name = value**"
   ]
  },
  {
   "attachments": {},
   "cell_type": "markdown",
   "metadata": {},
   "source": [
    "For example, you might create a new variable called `my_age` and assign it the value 20 like this:"
   ]
  },
  {
   "cell_type": "code",
   "execution_count": null,
   "metadata": {},
   "outputs": [],
   "source": [
    "my_age = 20"
   ]
  },
  {
   "cell_type": "code",
   "execution_count": null,
   "metadata": {},
   "outputs": [],
   "source": [
    "my_age"
   ]
  },
  {
   "attachments": {},
   "cell_type": "markdown",
   "metadata": {},
   "source": [
    "In Python, there are a few rules that you need to follow when naming variables:\n",
    "\n",
    "* Variable names can only contain letters, numbers, and underscores (_). They cannot contain spaces or special characters like !, @, #, etc.\n",
    "\n",
    "* Variable names cannot begin with a number.\n",
    "\n",
    "* Variable names are case-sensitive. For example, x and X are considered to be two different variables.\n",
    "\n",
    "* There are a few words that are reserved in Python and cannot be used as variable names. These are called \"keywords\" and include words like for, while, def, and class (among others). You can see a full list of keywords in the Python documentation."
   ]
  },
  {
   "attachments": {},
   "cell_type": "markdown",
   "metadata": {},
   "source": [
    "### Good variable names"
   ]
  },
  {
   "cell_type": "code",
   "execution_count": null,
   "metadata": {},
   "outputs": [],
   "source": [
    "name = 1\n",
    "Name = 1\n",
    "name1 = 1\n",
    "name_1 = 1"
   ]
  },
  {
   "cell_type": "markdown",
   "metadata": {},
   "source": [
    "### Bad variable names"
   ]
  },
  {
   "cell_type": "code",
   "execution_count": null,
   "metadata": {},
   "outputs": [],
   "source": [
    "назва = 1 # ?!\n",
    "nazva = 1 # ?!"
   ]
  },
  {
   "cell_type": "markdown",
   "metadata": {},
   "source": [
    "### Invalid variable names"
   ]
  },
  {
   "cell_type": "code",
   "execution_count": null,
   "metadata": {},
   "outputs": [],
   "source": [
    "1name = 1\n",
    "name.1 = 1"
   ]
  },
  {
   "cell_type": "markdown",
   "metadata": {},
   "source": [
    "### Advice"
   ]
  },
  {
   "cell_type": "code",
   "execution_count": null,
   "metadata": {},
   "outputs": [],
   "source": [
    "s = 3600\n",
    "\n",
    "seconds = 3600\n",
    "\n",
    "seconds_in_hour = 3600"
   ]
  },
  {
   "attachments": {},
   "cell_type": "markdown",
   "metadata": {},
   "source": [
    "## Function\n",
    "\n",
    "A function is a piece of code that is defined under a name and can be executed whenever you need to perform a specific task. Imagine a function as a another program that you can call to perform a specific task. \n",
    "\n",
    "To use a function, you \"call\" it by using its name followed by parentheses. When you call a function, the code inside the function is executed."
   ]
  },
  {
   "attachments": {},
   "cell_type": "markdown",
   "metadata": {},
   "source": [
    "### print function"
   ]
  },
  {
   "cell_type": "code",
   "execution_count": null,
   "metadata": {},
   "outputs": [],
   "source": [
    "print"
   ]
  },
  {
   "cell_type": "code",
   "execution_count": null,
   "metadata": {},
   "outputs": [],
   "source": [
    "print(10)"
   ]
  },
  {
   "cell_type": "code",
   "execution_count": null,
   "metadata": {},
   "outputs": [],
   "source": [
    "print(my_age)"
   ]
  },
  {
   "cell_type": "code",
   "execution_count": null,
   "metadata": {},
   "outputs": [],
   "source": [
    "print(1 + 2)\n",
    "\n",
    "print(3)"
   ]
  },
  {
   "attachments": {},
   "cell_type": "markdown",
   "metadata": {},
   "source": [
    "### id function"
   ]
  },
  {
   "cell_type": "code",
   "execution_count": null,
   "metadata": {},
   "outputs": [],
   "source": [
    "id(my_age)"
   ]
  },
  {
   "cell_type": "code",
   "execution_count": null,
   "metadata": {},
   "outputs": [],
   "source": [
    "id(300)"
   ]
  },
  {
   "attachments": {},
   "cell_type": "markdown",
   "metadata": {},
   "source": [
    "### input function"
   ]
  },
  {
   "cell_type": "code",
   "execution_count": null,
   "metadata": {},
   "outputs": [],
   "source": [
    "input()"
   ]
  },
  {
   "cell_type": "code",
   "execution_count": null,
   "metadata": {},
   "outputs": [],
   "source": [
    "user_age = input()\n",
    "print(user_age)"
   ]
  },
  {
   "attachments": {},
   "cell_type": "markdown",
   "metadata": {},
   "source": [
    "## Errors\n",
    "\n",
    "In Python, an error is an exception that occurs when your program encounters a problem that it cannot handle. There are many different types of errors that can occur in Python, and each type of error has a specific meaning and purpose.\n",
    "\n",
    "Here are a few common types of errors that you might encounter in Python:"
   ]
  },
  {
   "attachments": {},
   "cell_type": "markdown",
   "metadata": {},
   "source": [
    "### Name Error\n",
    "\n",
    "This error occurs when you try to use a variable that has not been defined. For example, you might get a NameError if you try to use a variable that you forgot to create or if you spelled the variable's name incorrectly."
   ]
  },
  {
   "cell_type": "code",
   "execution_count": null,
   "metadata": {},
   "outputs": [],
   "source": [
    "print(Hello)"
   ]
  },
  {
   "attachments": {},
   "cell_type": "markdown",
   "metadata": {},
   "source": [
    "### Syntax errors\n",
    "\n",
    "This error occurs when there is a problem with the structure of your code. For example, you might get a SyntaxError if you forget to close a quotation mark or if you forget to use a colon at the end of a statement."
   ]
  },
  {
   "cell_type": "code",
   "execution_count": null,
   "metadata": {},
   "outputs": [],
   "source": [
    "print(123"
   ]
  },
  {
   "attachments": {},
   "cell_type": "markdown",
   "metadata": {},
   "source": [
    "## Comments\n",
    "\n",
    "In Python, a comment is a piece of text that is ignored by the interpreter and is not executed as part of the program. Comments are used to add explanations and documentation to your code, and they can make your code easier to understand.\n",
    "\n",
    "In Python, you can create a comment by starting a line with the hash symbol (#). Everything that follows the hash symbol on the same line is considered to be a comment. For example:"
   ]
  },
  {
   "cell_type": "code",
   "execution_count": null,
   "metadata": {},
   "outputs": [],
   "source": [
    "# This is a comment. It is not executed as part of the program.\n",
    "x = 10  # This is also a comment."
   ]
  },
  {
   "cell_type": "code",
   "execution_count": null,
   "metadata": {},
   "outputs": [],
   "source": [
    "# here is the multi-line comment\n",
    "# that start on previous line\n",
    "# a = 3\n",
    "# and might continue for a while"
   ]
  },
  {
   "attachments": {},
   "cell_type": "markdown",
   "metadata": {},
   "source": [
    "## Materials\n",
    "\n",
    "### Variables\n",
    "1. https://www.python-course.eu/python3_variables.php\n",
    "2. https://realpython.com/python-beginner-tips/\n",
    "3. https://realpython.com/python-variables/\n",
    "\n"
   ]
  }
 ],
 "metadata": {
  "kernelspec": {
   "display_name": "Python 3.9.13 64-bit",
   "language": "python",
   "name": "python3"
  },
  "language_info": {
   "codemirror_mode": {
    "name": "ipython",
    "version": 3
   },
   "file_extension": ".py",
   "mimetype": "text/x-python",
   "name": "python",
   "nbconvert_exporter": "python",
   "pygments_lexer": "ipython3",
   "version": "3.9.16"
  },
  "orig_nbformat": 4,
  "vscode": {
   "interpreter": {
    "hash": "397704579725e15f5c7cb49fe5f0341eb7531c82d19f2c29d197e8b64ab5776b"
   }
  }
 },
 "nbformat": 4,
 "nbformat_minor": 2
}
