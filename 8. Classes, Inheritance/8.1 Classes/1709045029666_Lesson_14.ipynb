{
 "cells": [
  {
   "attachments": {},
   "cell_type": "markdown",
   "metadata": {},
   "source": [
    "# Object-oriented programming \n",
    "\n",
    "\n",
    "Object-Oriented Programming (OOP) is a way of writing Python code that makes use of classes and objects.\n",
    "\n",
    "In Python, a class is like a blueprint for creating objects. It defines the attributes (data) and methods (functions) that the object will have. Once the class is defined, you can create objects (instances) of that class."
   ]
  },
  {
   "cell_type": "markdown",
   "metadata": {},
   "source": [
    "## Class"
   ]
  },
  {
   "cell_type": "code",
   "execution_count": null,
   "metadata": {},
   "outputs": [],
   "source": [
    "ukraine = ['Kyiv', 42_000_000, 603_000, 'The capital of Ukraine is Kyiv']\n",
    "poland = ['Warsaw', 38_000_000, 312_000, 'The capital of Poland is Warsaw']\n",
    "france = ['Paris', 67_000_000, 592_000, 'The capital of France is Paris']\n",
    "usa = ['Washington', 520_000_000, 5_500_000, 'The capital of USA is Washington']"
   ]
  },
  {
   "cell_type": "code",
   "execution_count": null,
   "metadata": {},
   "outputs": [],
   "source": [
    "poland[0]"
   ]
  },
  {
   "cell_type": "code",
   "execution_count": null,
   "metadata": {},
   "outputs": [],
   "source": [
    "poland = {'capital': 'Warsaw', 'population': 38_000_000, 'area': 312_000, 'description': 'The capital of Poland is Warsaw'}"
   ]
  },
  {
   "cell_type": "code",
   "execution_count": null,
   "metadata": {},
   "outputs": [],
   "source": [
    "poland['capital']"
   ]
  },
  {
   "attachments": {},
   "cell_type": "markdown",
   "metadata": {},
   "source": [
    "## What is the class?\n",
    "\n",
    "A class in Python is a blueprint for creating objects (data structures), providing initial values for state (member variables or attributes), and implementations of behavior (member functions or methods). Classes define a new data type, with methods for creating and manipulating objects of that type.\n"
   ]
  },
  {
   "cell_type": "code",
   "execution_count": null,
   "metadata": {},
   "outputs": [],
   "source": [
    "class Country:\n",
    "    pass\n"
   ]
  },
  {
   "attachments": {},
   "cell_type": "markdown",
   "metadata": {},
   "source": [
    "### Instance\n",
    "\n",
    "An instance of a class in Python is an individual object created from the class blueprint. It contains its own values for the attributes defined in the class and can have its own behavior as defined by the methods of the class. Each instance is unique and operates independently from other instances of the same class."
   ]
  },
  {
   "cell_type": "code",
   "execution_count": null,
   "metadata": {},
   "outputs": [],
   "source": [
    "c = Country()"
   ]
  },
  {
   "cell_type": "code",
   "execution_count": null,
   "metadata": {},
   "outputs": [],
   "source": [
    "type(c)"
   ]
  },
  {
   "attachments": {},
   "cell_type": "markdown",
   "metadata": {},
   "source": [
    "### Attribute\n",
    "\n",
    "An attribute of a class in Python is a named value associated with an instance of the class. It represents a piece of data or state of an object and is stored as a variable within the class. Attributes can be of various data types, such as integers, strings, lists, etc. They can be set and accessed via dot notation, like `object.attribute`.\n",
    "\n",
    "### Method \n",
    "\n",
    "A method in a Python class is a function that operates on instances of the class. It allows objects of the class to perform actions and modify their state. Methods are defined inside the class and have access to the attributes of the class and the self keyword, which refers to the instance on which the method is being called. Methods are called using dot notation, like object.method().\n"
   ]
  },
  {
   "cell_type": "code",
   "execution_count": null,
   "metadata": {},
   "outputs": [],
   "source": [
    "class Country:\n",
    "    # adding custom attributes\n",
    "    def __init__(self, name: str, population: int):\n",
    "        self.name = name\n",
    "        self.population = population"
   ]
  },
  {
   "cell_type": "code",
   "execution_count": null,
   "metadata": {},
   "outputs": [],
   "source": [
    "portugal = Country('Portugal', 10_000_000)"
   ]
  },
  {
   "cell_type": "code",
   "execution_count": null,
   "metadata": {},
   "outputs": [],
   "source": [
    "portugal.population"
   ]
  },
  {
   "cell_type": "code",
   "execution_count": null,
   "metadata": {},
   "outputs": [],
   "source": [
    "portugal.some_attr = '123'\n",
    "\n",
    "print(portugal.some_attr)"
   ]
  },
  {
   "cell_type": "code",
   "execution_count": null,
   "metadata": {},
   "outputs": [],
   "source": [
    "print(portugal.name, portugal.population, portugal.some_attr)"
   ]
  },
  {
   "cell_type": "code",
   "execution_count": null,
   "metadata": {},
   "outputs": [],
   "source": [
    "andora = Country('Andora', 100_000)"
   ]
  },
  {
   "cell_type": "code",
   "execution_count": null,
   "metadata": {},
   "outputs": [],
   "source": [
    "andora.some_attr"
   ]
  },
  {
   "cell_type": "code",
   "execution_count": null,
   "metadata": {},
   "outputs": [],
   "source": [
    "class Country:\n",
    "    def __init__(self):\n",
    "        pass\n",
    "\n",
    "c1 = Country()\n",
    "c2 = Country()"
   ]
  },
  {
   "cell_type": "code",
   "execution_count": null,
   "metadata": {},
   "outputs": [],
   "source": [
    "c1"
   ]
  },
  {
   "cell_type": "code",
   "execution_count": null,
   "metadata": {},
   "outputs": [],
   "source": [
    "c2"
   ]
  },
  {
   "cell_type": "code",
   "execution_count": null,
   "metadata": {},
   "outputs": [],
   "source": [
    "c1 == c2"
   ]
  },
  {
   "cell_type": "markdown",
   "metadata": {},
   "source": [
    "#### Instance method"
   ]
  },
  {
   "cell_type": "code",
   "execution_count": null,
   "metadata": {},
   "outputs": [],
   "source": [
    "class Country:\n",
    "    def __init__(self, name, population):\n",
    "        self.name = name\n",
    "        self.population = population\n",
    "\n",
    "    # instance method\n",
    "    def description(self):\n",
    "        return f'The population of {self.name} is {self.population}'\n",
    "\n",
    "    # instance with a parameter\n",
    "    def make_declaration(self, speech: str):\n",
    "        print(f'!!!!!!!!!!!!!!!!!!!!!!!!!!')\n",
    "        \n",
    "        return f'{self.name} declare: {speech}'"
   ]
  },
  {
   "cell_type": "code",
   "execution_count": null,
   "metadata": {},
   "outputs": [],
   "source": [
    "argentina = Country('Argentina', 43_000_000)\n",
    "\n",
    "print(f'description of Argentina: {argentina.description()}')"
   ]
  },
  {
   "cell_type": "code",
   "execution_count": null,
   "metadata": {},
   "outputs": [],
   "source": [
    "print(argentina.make_declaration('We declare independence!'))"
   ]
  },
  {
   "cell_type": "markdown",
   "metadata": {},
   "source": [
    "### Classmethod and staticmethod"
   ]
  },
  {
   "cell_type": "code",
   "execution_count": null,
   "metadata": {},
   "outputs": [],
   "source": [
    "class Country:\n",
    "    def __init__(self, name, population):\n",
    "        self.name = name\n",
    "        self.population = population\n",
    "        self.average_temperature_c = 0\n",
    "\n",
    "    @classmethod\n",
    "    def create_million_country(cls, name = 'Standard name'):\n",
    "\n",
    "        instance = cls(name, 1_000_000)\n",
    "        return instance\n",
    "    \n",
    "    @classmethod\n",
    "    def read_countries_from_file(cls, filename):\n",
    "        instances = []\n",
    "        with open(filename) as file:\n",
    "            for row in file:\n",
    "                instances.append(cls(name=row[0], population=row[1]))\n",
    "\n",
    "        return instances\n",
    "\n",
    "    @staticmethod\n",
    "    def create_great_speech(speech):\n",
    "        return f'Said: {speech} with gratitude'\n",
    "\n",
    "    @property\n",
    "    def population_in_millions(self):\n",
    "        return self.population / 1_000_000\n",
    "\n",
    "    @property\n",
    "    def average_temperature_f(self):\n",
    "        return self.average_temperature_c * 9/5 + 32\n",
    "\n",
    "    def description(self):\n",
    "        return f'The population of {self.name} is {self.population}'"
   ]
  },
  {
   "cell_type": "code",
   "execution_count": null,
   "metadata": {},
   "outputs": [],
   "source": [
    "# class method\n",
    "columbia = Country.create_million_country('Columbia')\n"
   ]
  },
  {
   "cell_type": "code",
   "execution_count": null,
   "metadata": {},
   "outputs": [],
   "source": [
    "# static method\n",
    "print(Country.create_great_speech('Some Speech'))"
   ]
  },
  {
   "cell_type": "code",
   "execution_count": null,
   "metadata": {},
   "outputs": [],
   "source": [
    "# property\n",
    "print('columbia.population', columbia.population)\n",
    "print('population_in_milions', columbia.population_in_millions)\n",
    "print('average_temperature_f', columbia.average_temperature_f)"
   ]
  },
  {
   "attachments": {},
   "cell_type": "markdown",
   "metadata": {},
   "source": [
    "### Private method\n",
    "\n",
    "\n",
    "In Python, single underscores (_) and double underscores (__) are used as a convention to indicate the intended level of visibility and accessibility of class members (e.g. methods, attributes).\n",
    "\n",
    "**Single underscores or protected (_)**:\n",
    "\n",
    "* Indicate that a method or attribute is intended to be protected, meaning that it should not be accessed from outside the class, but can be accessed from within subclasses.\n",
    "* A single underscore does not cause name mangling and is not intended to prevent access from outside the class, but it serves as a visual indicator that the member should not be used outside the class.\n",
    "\n",
    "**Double underscores or private (__)**:\n",
    "\n",
    "* Indicate that a method or attribute is intended to be private, meaning that it should not be accessed from outside the class.\n",
    "* Double underscores cause name mangling in Python. When a method or attribute is named with double underscores, the interpreter will change the name by adding a prefix of the class name and a double underscore.\n",
    "\n",
    "It's important to note that the visibility and accessibility of class members in Python is determined by convention, not strict access controls. Therefore, the use of single underscores or double underscores is mainly a matter of code organization and clarity, rather than providing strict privacy controls."
   ]
  },
  {
   "cell_type": "code",
   "execution_count": null,
   "metadata": {},
   "outputs": [],
   "source": [
    "def send_data_to_government():\n",
    "    pass\n",
    "\n",
    "class Country:\n",
    "    def __init__(self, gdp):\n",
    "        self._gdp = gdp\n",
    "        self._population = 1_000_000\n",
    "\n",
    "    def get_gdp_per_capita(self):\n",
    "        return self._gdp / self._population\n",
    "\n",
    "    def set_gdp(self, new_value):\n",
    "        if new_value > self._gdp:\n",
    "            self._gdp = new_value\n",
    "\n",
    "            send_data_to_government(new_value)"
   ]
  },
  {
   "cell_type": "code",
   "execution_count": null,
   "metadata": {},
   "outputs": [],
   "source": [
    "c = Country(10_000_000_000)\n"
   ]
  },
  {
   "cell_type": "code",
   "execution_count": null,
   "metadata": {},
   "outputs": [],
   "source": [
    "print('_gdp:', c._gdp)\n",
    "print('get_gdp_per_capita:', c.get_gdp_per_capita())"
   ]
  },
  {
   "cell_type": "code",
   "execution_count": null,
   "metadata": {},
   "outputs": [],
   "source": [
    "c._gdp = 5_000_000_000\n",
    "print(c._gdp)"
   ]
  },
  {
   "cell_type": "code",
   "execution_count": null,
   "metadata": {},
   "outputs": [],
   "source": [
    "class Country:\n",
    "    def __init__(self, gdp):\n",
    "        self.__gdp = gdp\n",
    "        self.population = 1_000_000\n",
    "\n",
    "    def get_gdp_per_capita(self):\n",
    "        return self.__gdp / self.population\n",
    "\n",
    "    def set_gdp(self, new_value):\n",
    "        if new_value > self.__gdp:\n",
    "            self.__gdp = new_value\n",
    "\n",
    "            send_data_to_government(new_value)"
   ]
  },
  {
   "cell_type": "code",
   "execution_count": null,
   "metadata": {},
   "outputs": [],
   "source": [
    "c = Country(40_000_000_000)\n",
    "\n",
    "\n",
    "print('_gdp:', c.__gdp)\n"
   ]
  },
  {
   "cell_type": "code",
   "execution_count": null,
   "metadata": {},
   "outputs": [],
   "source": [
    "print('get_gdp_per_capita:', c.get_gdp_per_capita())"
   ]
  },
  {
   "attachments": {},
   "cell_type": "markdown",
   "metadata": {},
   "source": [
    "#### Magic method\n",
    "\n",
    "Magic methods, also known as dunder (short for \"double underscore\") methods in Python, are special methods that have double underscores at the beginning and end of their names. They have a special meaning in Python and are used to define operator overloading, object creation and destruction, attribute access, etc. Some common magic methods include:\n",
    "\n",
    "    __init__: constructor, called when an object is created from a class.\n",
    "    __str__: returns a string representation of an object.\n",
    "    __len__: returns the length of an object.\n",
    "    __add__: implements addition between objects.\n",
    "    __eq__: implements equality testing between objects.\n",
    "\n",
    "Magic methods allow classes to define custom behavior for built-in operations in Python, and are a fundamental part of object-oriented programming in Python."
   ]
  },
  {
   "cell_type": "code",
   "execution_count": null,
   "metadata": {},
   "outputs": [],
   "source": [
    "class Country:\n",
    "    def __init__(self, name, population):\n",
    "        self.name = name\n",
    "        self.population = population\n",
    "\n",
    "    # magic method\n",
    "    def __str__(self):\n",
    "        return f'Country: {self.name} with population {self.population}'\n"
   ]
  },
  {
   "cell_type": "code",
   "execution_count": null,
   "metadata": {},
   "outputs": [],
   "source": [
    "cuba = Country('Cuba', 11_000_000)\n",
    "print('cuba:', cuba)"
   ]
  },
  {
   "cell_type": "code",
   "execution_count": null,
   "metadata": {},
   "outputs": [],
   "source": [
    "class Country:\n",
    "    def __init__(self, name, population):\n",
    "        self.name = name\n",
    "        self.population = population\n",
    "\n",
    "    # magic method\n",
    "    def __str__(self):\n",
    "        return f'Country: {self.name} with population {self.population}'\n",
    "\n",
    "    def __eq__(self, other):\n",
    "        if type(other) != Country:\n",
    "            return TypeError('other must be a Country instance')\n",
    "        \n",
    "        print(self.name, self.population)\n",
    "        print(other.name, other.population)\n",
    "        return self.population == other.population\n"
   ]
  },
  {
   "cell_type": "code",
   "execution_count": null,
   "metadata": {},
   "outputs": [],
   "source": [
    "cuba1 = Country('Cuba1', 11_000_000)\n",
    "cuba2 = Country('Cuba2', 11_000_000)\n",
    "\n",
    "print(cuba1 == cuba2)"
   ]
  },
  {
   "cell_type": "code",
   "execution_count": null,
   "metadata": {},
   "outputs": [],
   "source": [
    "# list of magic methods\n",
    "dir(int)"
   ]
  },
  {
   "attachments": {},
   "cell_type": "markdown",
   "metadata": {},
   "source": [
    "### Lesson practice (we already did it during the lesson)\n",
    "\n",
    "1. Modify the Country class to include a third instance attribute called capital as a string. Store your new class in a script and test it out by adding the following code at the bottom of the script:\n",
    "    ```\n",
    "    japan = Country('Japan', 140_000_000, 'Tokyo')\n",
    "    print(f\"{japan.name} population is {japan.population} and capital is {japan.capital}.\") \n",
    "    ```\n",
    "    The output of your script should be:\n",
    "\n",
    "    Japan population is 140000000 and capital is Tokyo.\n",
    "\n",
    "2. Add increase_population method to country class. This method should take an argument and increase population of the country on this number. \n"
   ]
  },
  {
   "attachments": {},
   "cell_type": "markdown",
   "metadata": {},
   "source": [
    "### Homework Practice\n",
    "\n",
    "1. Create add method to add two countries together. This method should create another country object with the name of the two countries combined and population of the two countries added together.\n",
    "```\n",
    "bosnia = Country('Bosnia', 10_000_000)\n",
    "herzegovina = Country('Herzegovina', 5_000_000)\n",
    "\n",
    "bosnia_herzegovina = bosnia.add(herzegovina)\n",
    "bosnia_herzegovina.population -> 15_000_000\n",
    "bosnia_herzegovina.name -> 'Bosnia Herzegovina'\n",
    "```\n",
    "\n",
    "2. Implement previous method with magic method\n",
    "\n",
    "```\n",
    "bosnia = Country('Bosnia', 10_000_000)\n",
    "herzegovina = Country('Herzegovina', 5_000_000)\n",
    "\n",
    "bosnia_herzegovina = bosnia + herzegovina\n",
    "bosnia_herzegovina.population -> 15_000_000\n",
    "bosnia_herzegovina.name -> 'Bosnia Herzegovina'\n",
    "```\n",
    "\n",
    "3. Create a Car class with the following attributes: brand, model, year, and speed. The Car class should have the following methods: accelerate, brake and display_speed. The accelerate method should increase the speed by 5, and the brake method should decrease the speed by 5. Remember that the speed cannot be negative.\n",
    "\n",
    "4. Create a Robot class with the following attributes: orientation, position_x, position_y. The Robot class should have the following methods: move, turn, and display_position. The move method should take a number of steps and move the robot in the direction it is currently facing. The turn method should take a direction (left or right) and turn the robot in that direction. The display_position method should print the current position of the robot."
   ]
  }
 ],
 "metadata": {
  "kernelspec": {
   "display_name": "Python 3.9.13 64-bit",
   "language": "python",
   "name": "python3"
  },
  "language_info": {
   "codemirror_mode": {
    "name": "ipython",
    "version": 3
   },
   "file_extension": ".py",
   "mimetype": "text/x-python",
   "name": "python",
   "nbconvert_exporter": "python",
   "pygments_lexer": "ipython3",
   "version": "3.9.6"
  },
  "orig_nbformat": 4,
  "vscode": {
   "interpreter": {
    "hash": "397704579725e15f5c7cb49fe5f0341eb7531c82d19f2c29d197e8b64ab5776b"
   }
  }
 },
 "nbformat": 4,
 "nbformat_minor": 2
}
