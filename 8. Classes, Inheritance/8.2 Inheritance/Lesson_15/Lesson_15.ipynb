{
 "cells": [
  {
   "attachments": {},
   "cell_type": "markdown",
   "metadata": {},
   "source": [
    "## Inheritance\n",
    "\n",
    "### What is inheritance\n",
    "\n",
    "Inheritance is a mechanism in object-oriented programming that allows a new class to be derived from an existing class. The derived class inherits all the attributes and behaviors of the base class and can add new attributes or override existing ones. This allows for code reuse and abstraction, and helps to model real-world objects and relationships. In Python, inheritance is achieved by specifying the base class in parentheses after the derived class name in the class definition.\n",
    "\n",
    "Inheritance is a fundamental concept in Object-Oriented Programming (OOP) that allows you to create new classes based on existing classes. The main benefits of using inheritance are:\n",
    "\n",
    "1. Code Reusability: By inheriting attributes and behaviors from a parent class, you can reuse existing code and avoid having to write the same code repeatedly.\n",
    "\n",
    "2. Abstraction: Inheritance allows you to encapsulate common attributes and behaviors in a base class, which can be inherited by multiple subclasses. This makes it easier to maintain and update the code, as well as make the code more readable and understandable.\n",
    "\n",
    "3. Polymorphism: Inheritance enables polymorphism, which allows you to use objects of different classes interchangeably, as long as they share a common base class. This allows you to write more flexible and generic code that can handle objects of different types in a consistent manner.\n",
    "\n",
    "4. Improved organization: Inheritance helps to organize code into a hierarchical structure, which makes it easier to understand and maintain the relationships between different objects in a program.\n",
    "\n",
    "### Object class\n",
    "\n",
    "In Python, object is the base class for all classes. It is the root of the class hierarchy, and all other classes implicitly inherit from it. The object class defines a basic set of behaviors and attributes that all classes in Python inherit, including support for object-oriented features such as inheritance, polymorphism, and dynamic dispatch.\n",
    "\n",
    "When you create a class in Python without specifying a base class, it is automatically derived from object, so it inherits all of its attributes and behaviors. You can also explicitly specify object as the base class when defining a new class to make it clear that it is a subclass of object.\n"
   ]
  },
  {
   "cell_type": "code",
   "execution_count": null,
   "metadata": {},
   "outputs": [],
   "source": [
    "class Country(object):\n",
    "    pass\n",
    "\n",
    "# the same as\n",
    "\n",
    "class Country:\n",
    "    pass "
   ]
  },
  {
   "cell_type": "code",
   "execution_count": null,
   "metadata": {},
   "outputs": [],
   "source": [
    "isinstance(Country, object)"
   ]
  },
  {
   "cell_type": "code",
   "execution_count": null,
   "metadata": {},
   "outputs": [],
   "source": [
    "c = Country()\n",
    "\n",
    "print(isinstance(c, object))"
   ]
  },
  {
   "cell_type": "code",
   "execution_count": null,
   "metadata": {},
   "outputs": [],
   "source": [
    "print(isinstance(None, object))"
   ]
  },
  {
   "cell_type": "code",
   "execution_count": null,
   "metadata": {},
   "outputs": [],
   "source": [
    "print(isinstance(object, object))"
   ]
  },
  {
   "cell_type": "markdown",
   "metadata": {},
   "source": [
    "#### Parent vs Child class"
   ]
  },
  {
   "cell_type": "code",
   "execution_count": null,
   "metadata": {},
   "outputs": [],
   "source": [
    "class Country(object):\n",
    "    system = 'Common system'\n",
    "\n",
    "    def __init__(self, name, population):\n",
    "        self.name = name\n",
    "        self.population = population\n",
    "\n",
    "    # magic method\n",
    "    def __str__(self):\n",
    "        return f'Country: {self.name} with population {self.population}'\n",
    "\n",
    "    def make_declaration(self, speech):\n",
    "        return f'{self.name} declare: {speech}'"
   ]
  },
  {
   "cell_type": "code",
   "execution_count": null,
   "metadata": {},
   "outputs": [],
   "source": [
    "class Republic(Country):\n",
    "    pass"
   ]
  },
  {
   "cell_type": "code",
   "execution_count": null,
   "metadata": {},
   "outputs": [],
   "source": [
    "congo = Republic('Congo', 5_000_000)"
   ]
  },
  {
   "cell_type": "code",
   "execution_count": null,
   "metadata": {},
   "outputs": [],
   "source": [
    "congo.population"
   ]
  },
  {
   "cell_type": "code",
   "execution_count": null,
   "metadata": {},
   "outputs": [],
   "source": [
    "congo.system"
   ]
  },
  {
   "cell_type": "code",
   "execution_count": null,
   "metadata": {},
   "outputs": [],
   "source": [
    "type(congo) == Country"
   ]
  },
  {
   "cell_type": "code",
   "execution_count": null,
   "metadata": {},
   "outputs": [],
   "source": [
    "isinstance(congo, Country)"
   ]
  },
  {
   "cell_type": "code",
   "execution_count": null,
   "metadata": {},
   "outputs": [],
   "source": [
    "class Republic(Country):\n",
    "    system = 'Republic system'\n",
    "\n",
    "\n",
    "class Federation(Country):\n",
    "    system = 'Federation system' "
   ]
  },
  {
   "cell_type": "code",
   "execution_count": null,
   "metadata": {},
   "outputs": [],
   "source": [
    "print('Germany: ', germany.system, 'Name:', germany.name)\n",
    "print('Korea: ', korea.system, 'Name:', korea.name)"
   ]
  },
  {
   "cell_type": "code",
   "execution_count": null,
   "metadata": {},
   "outputs": [],
   "source": [
    "dir(korea)"
   ]
  },
  {
   "cell_type": "code",
   "execution_count": null,
   "metadata": {},
   "outputs": [],
   "source": [
    "print(type(germany))"
   ]
  },
  {
   "cell_type": "code",
   "execution_count": null,
   "metadata": {},
   "outputs": [],
   "source": [
    "germany = Federation('Germany', 80_000_000)\n",
    "korea = Republic('Korea', 50_000_000)"
   ]
  },
  {
   "cell_type": "code",
   "execution_count": null,
   "metadata": {},
   "outputs": [],
   "source": [
    "# print(isinstance(germany, Federation))\n",
    "# print(isinstance(germany, Republic))\n",
    "# print(isinstance(germany, Country))\n",
    "# print(isinstance(germany, object))"
   ]
  },
  {
   "cell_type": "markdown",
   "metadata": {},
   "source": [
    "### Extending functionality of a parent class"
   ]
  },
  {
   "cell_type": "code",
   "execution_count": null,
   "metadata": {},
   "outputs": [],
   "source": [
    "class Empire(Country):\n",
    "    system = 'Empire system'\n",
    "\n",
    "    def __init__(self, name, population, lifetime):\n",
    "        super().__init__(name, population)\n",
    "        self.lifetime = lifetime\n",
    "\n",
    "    def fail(self):\n",
    "        declaration = super().make_declaration('We fail!')\n",
    "        print(declaration)\n",
    "        print('The end')\n",
    "        print('¯7_(ツ)_/¯')"
   ]
  },
  {
   "cell_type": "code",
   "execution_count": null,
   "metadata": {},
   "outputs": [],
   "source": [
    "russia = Empire('russia', 140_000_000, 30)\n",
    "print(russia.lifetime)\n",
    "russia.fail()"
   ]
  },
  {
   "cell_type": "markdown",
   "metadata": {},
   "source": [
    "## Multiple inheritance"
   ]
  },
  {
   "cell_type": "code",
   "execution_count": null,
   "metadata": {},
   "outputs": [],
   "source": [
    "class A():\n",
    "    def make_declaration(self, speech):\n",
    "        return f'A declare: {speech}'\n",
    "\n",
    "class B(A):\n",
    "    def make_declaration(self, speech):\n",
    "        return f'B declare: {speech}'\n",
    "\n",
    "class C(B):\n",
    "    pass\n",
    "    # def make_declaration(self, speech):\n",
    "    #     return f'C declare: {speech}'\n",
    "\n",
    "c = C()\n",
    "print(c.make_declaration('Hello'))\n"
   ]
  },
  {
   "attachments": {},
   "cell_type": "markdown",
   "metadata": {},
   "source": [
    "![multilevel](second.jpg)"
   ]
  },
  {
   "cell_type": "code",
   "execution_count": null,
   "metadata": {},
   "outputs": [],
   "source": [
    "class A():\n",
    "    def make_declaration(self, speech):\n",
    "        return f'A declare: {speech}'\n",
    "\n",
    "class B():\n",
    "    def make_declaration(self, speech):\n",
    "        return f'B declare: {speech}'\n",
    "\n",
    "class C(A, B):\n",
    "    pass\n",
    "\n",
    "c = C()\n",
    "c.make_declaration('Hello')"
   ]
  },
  {
   "attachments": {},
   "cell_type": "markdown",
   "metadata": {},
   "source": [
    "![Mutiple](first.jpg)"
   ]
  },
  {
   "cell_type": "code",
   "execution_count": null,
   "metadata": {},
   "outputs": [],
   "source": [
    "class A:\n",
    "    def make_declaration(self, speech):\n",
    "        return f'A declare: {speech}'\n",
    "\n",
    "class B(A):\n",
    "    # pass\n",
    "    def make_declaration(self, speech):\n",
    "        return f'B declare: {speech}'\n",
    "\n",
    "class C(A):\n",
    "    pass\n",
    "    # def make_declaration(self, speech):\n",
    "    #     return f'C declare: {speech}'\n",
    "\n",
    "class D(C, B):\n",
    "    pass\n",
    "\n",
    "\n",
    "d = D()\n",
    "d.make_declaration('Hello')\n"
   ]
  },
  {
   "attachments": {},
   "cell_type": "markdown",
   "metadata": {},
   "source": [
    "![Diamond](third.jpg)"
   ]
  },
  {
   "cell_type": "code",
   "execution_count": null,
   "metadata": {},
   "outputs": [],
   "source": [
    "D.mro()"
   ]
  },
  {
   "attachments": {},
   "cell_type": "markdown",
   "metadata": {},
   "source": [
    "## Composition\n",
    "\n",
    "Composition is a technique in object-oriented programming (OOP) that allows you to create complex objects by combining simpler objects. In composition, an object is made up of one or more parts, which are objects in their own right. The parts are combined to form the whole object, and the behavior of the whole object is achieved through the behavior of its constituent parts.\n",
    "\n",
    "Composition is used as an alternative to inheritance when you want to model relationships between objects that are more complex than simple inheritance relationships. Unlike inheritance, composition allows you to use objects of different types and change the behavior of the composite object dynamically at runtime.\n",
    "\n",
    "In Python, composition can be implemented by creating objects as instance variables within another object. The parent object can use the methods and attributes of the contained objects to provide its own behavior. This allows for greater flexibility and modularity in your code, as the behavior of the composite object can be changed by swapping out its constituent parts."
   ]
  },
  {
   "cell_type": "code",
   "execution_count": null,
   "metadata": {},
   "outputs": [],
   "source": [
    "class Wheel:\n",
    "    pass\n",
    "\n",
    "class Vehicle:\n",
    "    pass\n",
    "\n",
    "class Ship(Vehicle):\n",
    "    pass\n",
    "\n",
    "class Bus(Vehicle):\n",
    "    def __init__(self, wheels: list[Wheel]):\n",
    "        self.wheels = wheels\n"
   ]
  },
  {
   "cell_type": "code",
   "execution_count": null,
   "metadata": {},
   "outputs": [],
   "source": [
    "class Text:\n",
    "    pass\n",
    "\n",
    "class Law(Text):\n",
    "    pass\n",
    "\n",
    "class Union:\n",
    "    def __init__(self, creation_date: int, countries: list[Country], law: Law):\n",
    "        self.countries  = countries\n",
    "        self.law = law\n",
    "        self.creation_date = creation_date"
   ]
  },
  {
   "cell_type": "code",
   "execution_count": null,
   "metadata": {},
   "outputs": [],
   "source": [
    "france = Country('France', 54_000_000)\n",
    "eu_law = Law()\n",
    "european_union = Union(1957, [germany, france], eu_law)\n",
    "\n",
    "for i, country in enumerate(european_union.countries):\n",
    "    print(f'Member number: {i+1} country.name: {country.name}')\n",
    "print(f'Created an union on {european_union.creation_date}')\n"
   ]
  },
  {
   "cell_type": "code",
   "execution_count": null,
   "metadata": {},
   "outputs": [],
   "source": [
    "class Mark:\n",
    "    pass\n",
    "\n",
    "class Student:\n",
    "    def __init__(self, marks: list[Mark]) -> None:\n",
    "        self.marks = marks"
   ]
  },
  {
   "cell_type": "code",
   "execution_count": null,
   "metadata": {},
   "outputs": [],
   "source": [
    "class Group:\n",
    "    def increase(self, student: Student) -> None:\n",
    "        raise NotImplementedError\n",
    "\n",
    "    def decrease(self, student: Student) -> int:\n",
    "        raise NotImplementedError\n"
   ]
  },
  {
   "attachments": {},
   "cell_type": "markdown",
   "metadata": {},
   "source": [
    "## Practice\n",
    "\n",
    "1. Create a class Product with properties name, price, and quantity. Create a child class Book that inherits from Product and adds a property author and a method called read.\n",
    "2. Create a class Restaurant with properties name, cuisine, and menu. The menu property should be a dictionary with keys being the dish name and values being the price. Create a child class FastFood that inherits from Restaurant and adds a property drive_thru (a boolean indicating whether the restaurant has a drive-thru or not) and a method called order which takes in the dish name and quantity and returns the total cost of the order. The method should also update the menu dictionary to subtract the ordered quantity from the available quantity. If the dish is not available or if the requested quantity is greater than the available quantity, the method should return a message indicating that the order cannot be fulfilled.\n",
    "\n",
    "Example of usage\n",
    "    \n",
    "```python\n",
    "class Restaurant:\n",
    "    # your code here\n",
    "    pass\n",
    "\n",
    "class FastFood(Restaurant):\n",
    "    # your code here\n",
    "    pass\n",
    "\n",
    "menu =  {\n",
    "    'burger': {'price': 5, 'quantity': 10},\n",
    "    'pizza': {'price': 10, 'quantity': 20},\n",
    "    'drink': {'price': 1, 'quantity': 15}\n",
    "}\n",
    "\n",
    "mc = FastFood('McDonalds', 'Fast Food', menu, True)\n",
    "\n",
    "print(mc.order('burger', 5)) # 25\n",
    "print(mc.order('burger', 15)) # Requested quantity not available\n",
    "print(mc.order('soup', 5)) # Dish not available\n",
    "\n",
    "```\n",
    "3. (Optional) A Bank\n",
    "    1. Using the Account class as a base class, write two derived classes called SavingsAccount and CurrentAccount. A SavingsAccount object, in addition to the attributes of an Account object, should have an interest attribute and a method which adds interest to the account. A CurrentAccount object, in addition to the attributes of an Account object, should have an overdraft limit attribute.\n",
    "\n",
    "    2. Now create a Bank class, an object of which contains an array of Account objects. Accounts in the array could be instances of the Account class, the SavingsAccount class, or the CurrentAccount class. Create some test accounts (some of each type).\n",
    "\n",
    "    3. Write an update method in the Bank class. It iterates through each account, updating it in the following ways: Savings accounts get interest added (via the method you already wrote); CurrentAccounts get a letter sent if they are in overdraft. (use print to 'send' the letter).\n",
    "\n",
    "    4. The Bank class requires methods for opening and closing accounts, and for paying a dividend into each account."
   ]
  },
  {
   "cell_type": "code",
   "execution_count": null,
   "metadata": {},
   "outputs": [],
   "source": [
    "class Account:\n",
    "    def __init__(self, balance, account_number):\n",
    "        self._balance = balance\n",
    "        self._account_number = account_number\n",
    "    \n",
    "    @classmethod\n",
    "    def create_account(cls, account_number):\n",
    "        return cls(0.0, account_number)\n",
    "    \n",
    "    def deposit(self, amount):\n",
    "        if amount > 0:\n",
    "            self._balance += amount\n",
    "        else:\n",
    "            raise ValueError('Amount must be positive')\n",
    "\n",
    "    def withdraw(self, amount):\n",
    "        if amount > 0:\n",
    "            self._balance -= amount\n",
    "        else:\n",
    "            raise ValueError('Amount must be positive')\n",
    "\n",
    "    def get_balance(self):\n",
    "        return self._balance\n",
    "    \n",
    "    def get_account_number(self):\n",
    "        return self._account_number\n",
    "    \n",
    "    def __str__(self):\n",
    "        return f'Account number: {self._account_number}, balance: {self._balance}'\n"
   ]
  },
  {
   "cell_type": "markdown",
   "metadata": {},
   "source": [
    "### Materials\n",
    "\n",
    "1. [What is class](https://realpython.com/python3-object-oriented-programming/)\n",
    "2. [Inheritance](https://realpython.com/inheritance-composition-python/)"
   ]
  }
 ],
 "metadata": {
  "kernelspec": {
   "display_name": "base",
   "language": "python",
   "name": "python3"
  },
  "language_info": {
   "codemirror_mode": {
    "name": "ipython",
    "version": 3
   },
   "file_extension": ".py",
   "mimetype": "text/x-python",
   "name": "python",
   "nbconvert_exporter": "python",
   "pygments_lexer": "ipython3",
   "version": "3.9.6"
  },
  "orig_nbformat": 4,
  "vscode": {
   "interpreter": {
    "hash": "3067ead486e059ec00ffe7555bdb889e6e264a24dc711bf108106cc7baee8d5d"
   }
  }
 },
 "nbformat": 4,
 "nbformat_minor": 2
}
