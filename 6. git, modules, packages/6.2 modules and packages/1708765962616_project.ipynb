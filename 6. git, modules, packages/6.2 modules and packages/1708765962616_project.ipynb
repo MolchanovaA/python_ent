{
 "cells": [
  {
   "cell_type": "markdown",
   "metadata": {},
   "source": [
    "# Project\n",
    "\n",
    "This time we will bring everything together to develop from start to end a simple app."
   ]
  },
  {
   "cell_type": "markdown",
   "metadata": {},
   "source": [
    "## Projecto description: Task manager\n",
    "\n",
    "We will create a simple CLI task manager. Users should be able to add/remove tasks, mark tasks as Done and before exiting there should be a possibility to **save tasks to Excel spreadsheet**."
   ]
  },
  {
   "cell_type": "markdown",
   "metadata": {},
   "source": [
    "## Steps\n",
    "\n",
    "Let's decompose the task into the following phases:\n",
    "\n",
    "Phase 1: Project setup\n",
    "\n",
    "1. Create repository and set up environment.\n",
    "2. POC: dummy CLI app.\n",
    "3. Project structure\n",
    "\n",
    "Phase 2: Develop logic\n",
    "\n",
    "4. Write code to handle app logic\n",
    "   1. Storage\n",
    "   2. CLI interface\n",
    "   3. How do we export tasks to excel?\n",
    "\n",
    "Phase 3: Maintainance\n",
    "\n",
    "5. Tests (covered in later sections of the course)\n",
    "6. Code style\n",
    "   1. [mypy](https://pypi.org/project/mypy/)\n",
    "   2. [flake8](https://pypi.org/project/flake8/)\n",
    "7. Add README\n",
    "8. Upload repository to Github"
   ]
  }
 ],
 "metadata": {
  "language_info": {
   "name": "python"
  }
 },
 "nbformat": 4,
 "nbformat_minor": 2
}
