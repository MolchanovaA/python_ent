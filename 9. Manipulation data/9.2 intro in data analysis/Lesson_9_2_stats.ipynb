{
 "cells": [
  {
   "cell_type": "markdown",
   "metadata": {},
   "source": [
    "# Descriptive statistics\n",
    "\n",
    "> Descriptive statistics is a branch of statistics that focuses on summarizing and describing a dataset or a sample.\n",
    "\n",
    "In this lesson, we will use \"Tips\" dataset ([data](https://raw.githubusercontent.com/mwaskom/seaborn-data/master/tips.csv), [source](https://rdrr.io/cran/reshape2/man/tips.html))."
   ]
  },
  {
   "cell_type": "code",
   "execution_count": 3,
   "metadata": {},
   "outputs": [],
   "source": [
    "import pandas as pd\n",
    "\n",
    "df = pd.read_csv('https://raw.githubusercontent.com/mwaskom/seaborn-data/master/tips.csv')"
   ]
  },
  {
   "cell_type": "markdown",
   "metadata": {},
   "source": [
    "## Mean\n",
    "\n",
    "\"Mean\" = \"average\"\n",
    "\n",
    "$$\\bar{x} = \\frac{1}{n} \\sum_{i=1}^{n} x_i$$"
   ]
  },
  {
   "cell_type": "code",
   "execution_count": 4,
   "metadata": {},
   "outputs": [
    {
     "data": {
      "text/plain": [
       "19.78594262295082"
      ]
     },
     "execution_count": 4,
     "metadata": {},
     "output_type": "execute_result"
    }
   ],
   "source": [
    "df['total_bill'].mean() # average amount of $ in bill"
   ]
  },
  {
   "cell_type": "markdown",
   "metadata": {},
   "source": [
    "## Median\n",
    "\n",
    "Mean is not an edequate measure sometime, especially when we have a couple of outliers. Median might better represent the central tendecy in data.\n",
    "\n",
    "<img src=\"https://upload.wikimedia.org/wikipedia/commons/thumb/c/cf/Finding_the_median.png/2880px-Finding_the_median.png\" width=300>"
   ]
  },
  {
   "cell_type": "code",
   "execution_count": 5,
   "metadata": {},
   "outputs": [
    {
     "data": {
      "text/plain": [
       "17.795"
      ]
     },
     "execution_count": 5,
     "metadata": {},
     "output_type": "execute_result"
    }
   ],
   "source": [
    "df['total_bill'].median()"
   ]
  },
  {
   "cell_type": "markdown",
   "metadata": {},
   "source": [
    "## Variance and standard deviation\n",
    "\n",
    "Variance is a measure of how \"far away\" the values in a dataset are from the mean.\n",
    "\n",
    "$$\\text{Var}(X) = \\frac{1}{n} \\sum_{i=1}^{n} (x_i - \\bar{x})^2$$\n",
    "\n",
    "Variance is a bit unintuitive becuase of the squared difference, e.g. if the data is in meters $m$, the variance will be in $m^2$. To \"bring back\" the unit of measure, we have standrd deviation, which is simply a square root of variance:\n",
    "\n",
    "$$ \\sigma = \\sqrt{\\text{Var}(X)} $$"
   ]
  },
  {
   "cell_type": "code",
   "execution_count": 6,
   "metadata": {},
   "outputs": [
    {
     "data": {
      "text/plain": [
       "79.25293861397827"
      ]
     },
     "execution_count": 6,
     "metadata": {},
     "output_type": "execute_result"
    }
   ],
   "source": [
    "df['total_bill'].var() # in $^2"
   ]
  },
  {
   "cell_type": "code",
   "execution_count": 7,
   "metadata": {},
   "outputs": [
    {
     "data": {
      "text/plain": [
       "8.902411954856856"
      ]
     },
     "execution_count": 7,
     "metadata": {},
     "output_type": "execute_result"
    }
   ],
   "source": [
    "df['total_bill'].std() # in $"
   ]
  },
  {
   "cell_type": "markdown",
   "metadata": {},
   "source": [
    "## Percentile and quantile\n",
    "\n",
    "A percentile is a measure that indicates the relative position of a particular value in a dataset. It tells us what percentage of the data falls below or equals that value.\n",
    "\n",
    "Image 100 data points sorted in a row. To get p75 (75th pecentile), we need to find the value of 75th data point. Example with 10 data points:\n",
    "\n",
    "![percentile](./percentiles.svg)\n",
    "\n",
    "1st Quantile = q1 = p25 \\\n",
    "2nd Quantile = q2 = p50 = median \\\n",
    "3rd Quantile = q3 = p75\n"
   ]
  },
  {
   "cell_type": "code",
   "execution_count": 8,
   "metadata": {},
   "outputs": [
    {
     "data": {
      "text/plain": [
       "24.127499999999998"
      ]
     },
     "execution_count": 8,
     "metadata": {},
     "output_type": "execute_result"
    }
   ],
   "source": [
    "df['total_bill'].quantile(0.75) # naming can be confusing, here \"quantile\" = \"percentile\""
   ]
  },
  {
   "cell_type": "code",
   "execution_count": null,
   "metadata": {},
   "outputs": [],
   "source": []
  }
 ],
 "metadata": {
  "kernelspec": {
   "display_name": "venv2",
   "language": "python",
   "name": "python3"
  },
  "language_info": {
   "codemirror_mode": {
    "name": "ipython",
    "version": 3
   },
   "file_extension": ".py",
   "mimetype": "text/x-python",
   "name": "python",
   "nbconvert_exporter": "python",
   "pygments_lexer": "ipython3",
   "version": "3.11.5"
  }
 },
 "nbformat": 4,
 "nbformat_minor": 2
}
